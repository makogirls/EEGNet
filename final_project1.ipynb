{
  "nbformat": 4,
  "nbformat_minor": 0,
  "metadata": {
    "colab": {
      "provenance": []
    },
    "kernelspec": {
      "name": "python3",
      "display_name": "Python 3"
    },
    "language_info": {
      "name": "python"
    }
  },
  "cells": [
    {
      "cell_type": "code",
      "execution_count": null,
      "metadata": {
        "id": "8nvKRN31H-IA",
        "colab": {
          "base_uri": "https://localhost:8080/",
          "height": 35
        },
        "outputId": "d313cbcf-80e9-4b86-90bf-91433046f596"
      },
      "outputs": [
        {
          "output_type": "execute_result",
          "data": {
            "text/plain": [
              "'/gdrive/MyDrive/Bootcamp'"
            ],
            "application/vnd.google.colaboratory.intrinsic+json": {
              "type": "string"
            }
          },
          "metadata": {},
          "execution_count": 77
        }
      ],
      "source": [
        "import os\n",
        "os.getcwd()"
      ]
    },
    {
      "cell_type": "code",
      "source": [
        "from google.colab import drive\n",
        "drive.mount(\"/gdrive\")"
      ],
      "metadata": {
        "colab": {
          "base_uri": "https://localhost:8080/"
        },
        "id": "ZGrBf8sBuzaA",
        "outputId": "e353ca92-5398-43e4-9324-e36dacba5fff"
      },
      "execution_count": null,
      "outputs": [
        {
          "output_type": "stream",
          "name": "stdout",
          "text": [
            "Drive already mounted at /gdrive; to attempt to forcibly remount, call drive.mount(\"/gdrive\", force_remount=True).\n"
          ]
        }
      ]
    },
    {
      "cell_type": "code",
      "source": [
        "os.chdir('/gdrive/MyDrive/Bootcamp/')"
      ],
      "metadata": {
        "id": "3ODpMYUwvQIb"
      },
      "execution_count": null,
      "outputs": []
    },
    {
      "cell_type": "code",
      "source": [
        "import pandas as pd"
      ],
      "metadata": {
        "id": "ij-Aq5Kqv53u"
      },
      "execution_count": null,
      "outputs": []
    },
    {
      "cell_type": "code",
      "source": [
        "df=pd.read_csv('ESR_sorted.csv')"
      ],
      "metadata": {
        "id": "4UMXvw_CweqC"
      },
      "execution_count": null,
      "outputs": []
    },
    {
      "cell_type": "code",
      "source": [
        "df.columns\n",
        "#columns 이름을 추출해내야 아래 코드가 오류나지 X"
      ],
      "metadata": {
        "colab": {
          "base_uri": "https://localhost:8080/"
        },
        "id": "qllLlBUWWW29",
        "outputId": "bf41d950-9397-44fc-d8d0-3adda8eb7928"
      },
      "execution_count": null,
      "outputs": [
        {
          "output_type": "execute_result",
          "data": {
            "text/plain": [
              "Index(['Unnamed', 'X1', 'X2', 'X3', 'X4', 'X5', 'X6', 'X7', 'X8', 'X9',\n",
              "       ...\n",
              "       'X170', 'X171', 'X172', 'X173', 'X174', 'X175', 'X176', 'X177', 'X178',\n",
              "       'y'],\n",
              "      dtype='object', length=180)"
            ]
          },
          "metadata": {},
          "execution_count": 82
        }
      ]
    },
    {
      "cell_type": "code",
      "source": [
        "submit_df=pd.DataFrame(columns=df.columns)\n",
        "for g in df['y'].unique():\n",
        "  if g!=1:\n",
        "    temp_df=df.query('y==@g').sample(frac=0.25, replace=False)\n",
        "  else:\n",
        "    temp_df=df.query('y==@g')\n",
        "  submit_df=pd.concat([submit_df,temp_df])\n",
        "submit_df=submit_df.reset_index(drop=True)\n",
        "print(submit_df)\n",
        "#1은 전체 자료 그대로 반영, 2,3,4,5는 각각 1/4씩 무작위로 데이터 추출"
      ],
      "metadata": {
        "colab": {
          "base_uri": "https://localhost:8080/"
        },
        "id": "OyH6UtlmT3aX",
        "outputId": "3b561e82-40e4-4be2-d181-fbdf964cd43e"
      },
      "execution_count": null,
      "outputs": [
        {
          "output_type": "stream",
          "name": "stdout",
          "text": [
            "        Unnamed    X1    X2    X3    X4    X5    X6     X7     X8     X9  ...  \\\n",
            "0      X6.V1.46   -21   -48   -59   -64   -51   -36    -27    -15    -12  ...   \n",
            "1     X19.V1.42    14    12    20    30    40    36     14      2     -7  ...   \n",
            "2      X7.V1.25   -29    -1    26    45    66    88    140    152    124  ...   \n",
            "3     X15.V1.26     2    12    22    26    14    -3     -3     13     41  ...   \n",
            "4     X16.V1.48    25    10    -1   -14   -12     4      7     14     30  ...   \n",
            "...         ...   ...   ...   ...   ...   ...   ...    ...    ...    ...  ...   \n",
            "4595  X9.V1.964  -606  -457  -337  -236  -149   -67      3     80    151  ...   \n",
            "4596  X9.V1.974   -81    -8    47    64    61    32      9    -11     -2  ...   \n",
            "4597  X9.V1.984  -170  -400  -461  -424  -343  -291   -262   -274   -284  ...   \n",
            "4598  X9.V1.994   126   197   272   370   414   422    405    398    361  ...   \n",
            "4599     X9.V14   312   267   193   106   -89  -658  -1239  -1501  -1146  ...   \n",
            "\n",
            "       X170   X171  X172  X173  X174  X175  X176  X177  X178  y  \n",
            "0       -65    -74   -64   -63   -49   -53   -58   -72   -71  5  \n",
            "1         1      7    18    23    26    14    -3   -43   -72  5  \n",
            "2         8     18    21    12    17    -2    41    57    74  5  \n",
            "3        55     29    -2   -21    -3    10    12    -5   -20  5  \n",
            "4       123    132   140   120   101    91    95   100   109  5  \n",
            "...     ...    ...   ...   ...   ...   ...   ...   ...   ... ..  \n",
            "4595    149    217   275   326   367   430   474   523   557  1  \n",
            "4596    155     35   -57  -126  -162  -150   -51   101   244  1  \n",
            "4597    280    392   619   586   498    89  -349  -672  -838  1  \n",
            "4598   -218   -198  -162  -141  -121  -119  -146  -181  -285  1  \n",
            "4599  -1149  -1178  -882  -455    42   394   580   562   442  1  \n",
            "\n",
            "[4600 rows x 180 columns]\n"
          ]
        }
      ]
    },
    {
      "cell_type": "code",
      "source": [
        "def fact(n):\n",
        "  if n==1:\n",
        "    return 1\n",
        "  else:\n",
        "    return 0\n",
        "#1은 1로, 2,3,4,5는 0으로 변환하는 함수."
      ],
      "metadata": {
        "id": "i5rjAffpZ7xy"
      },
      "execution_count": null,
      "outputs": []
    },
    {
      "cell_type": "code",
      "source": [
        "submit_df['y']=submit_df['y'].map(fact)\n",
        "print(submit_df)\n",
        "#위에 정의한 함수를 y값 전체에 적용."
      ],
      "metadata": {
        "colab": {
          "base_uri": "https://localhost:8080/"
        },
        "id": "TW7Xa2vcbpLR",
        "outputId": "dc4def33-f536-4e22-eac4-65f3db3b11f2"
      },
      "execution_count": null,
      "outputs": [
        {
          "output_type": "stream",
          "name": "stdout",
          "text": [
            "        Unnamed    X1    X2    X3    X4    X5    X6     X7     X8     X9  ...  \\\n",
            "0      X6.V1.46   -21   -48   -59   -64   -51   -36    -27    -15    -12  ...   \n",
            "1     X19.V1.42    14    12    20    30    40    36     14      2     -7  ...   \n",
            "2      X7.V1.25   -29    -1    26    45    66    88    140    152    124  ...   \n",
            "3     X15.V1.26     2    12    22    26    14    -3     -3     13     41  ...   \n",
            "4     X16.V1.48    25    10    -1   -14   -12     4      7     14     30  ...   \n",
            "...         ...   ...   ...   ...   ...   ...   ...    ...    ...    ...  ...   \n",
            "4595  X9.V1.964  -606  -457  -337  -236  -149   -67      3     80    151  ...   \n",
            "4596  X9.V1.974   -81    -8    47    64    61    32      9    -11     -2  ...   \n",
            "4597  X9.V1.984  -170  -400  -461  -424  -343  -291   -262   -274   -284  ...   \n",
            "4598  X9.V1.994   126   197   272   370   414   422    405    398    361  ...   \n",
            "4599     X9.V14   312   267   193   106   -89  -658  -1239  -1501  -1146  ...   \n",
            "\n",
            "       X170   X171  X172  X173  X174  X175  X176  X177  X178  y  \n",
            "0       -65    -74   -64   -63   -49   -53   -58   -72   -71  0  \n",
            "1         1      7    18    23    26    14    -3   -43   -72  0  \n",
            "2         8     18    21    12    17    -2    41    57    74  0  \n",
            "3        55     29    -2   -21    -3    10    12    -5   -20  0  \n",
            "4       123    132   140   120   101    91    95   100   109  0  \n",
            "...     ...    ...   ...   ...   ...   ...   ...   ...   ... ..  \n",
            "4595    149    217   275   326   367   430   474   523   557  1  \n",
            "4596    155     35   -57  -126  -162  -150   -51   101   244  1  \n",
            "4597    280    392   619   586   498    89  -349  -672  -838  1  \n",
            "4598   -218   -198  -162  -141  -121  -119  -146  -181  -285  1  \n",
            "4599  -1149  -1178  -882  -455    42   394   580   562   442  1  \n",
            "\n",
            "[4600 rows x 180 columns]\n"
          ]
        }
      ]
    },
    {
      "cell_type": "code",
      "source": [
        "submit_df=submit_df.sample(frac=1, replace=False).reset_index(drop=True)\n",
        "print(submit_df)\n",
        "submit_df['y'].value_counts()\n",
        "#자료 순서 무작위 재배열: Training의 결과값에 영향을 줄 가능성이 있는 요소 최대한 배제하기 위함"
      ],
      "metadata": {
        "colab": {
          "base_uri": "https://localhost:8080/"
        },
        "id": "zSzRt9TmeAJU",
        "outputId": "dc751f25-e5ab-4bfb-dc61-6000b84715c2"
      },
      "execution_count": null,
      "outputs": [
        {
          "output_type": "stream",
          "name": "stdout",
          "text": [
            "         Unnamed    X1    X2    X3    X4    X5    X6    X7    X8   X9  ...  \\\n",
            "0     X18.V1.413    39    34    35    34    42    52    58    57   46  ...   \n",
            "1     X19.V1.171   -62   -91  -118  -115   -86   -42   -18   -15  -35  ...   \n",
            "2      X3.V1.116   332   477   480   423   438   522   629   700  717  ...   \n",
            "3      X9.V1.512    12    14    13    11    11    13    18    31   42  ...   \n",
            "4      X6.V1.844   294   180    52  -124  -206  -205   -61    55  179  ...   \n",
            "...          ...   ...   ...   ...   ...   ...   ...   ...   ...  ...  ...   \n",
            "4595  X14.V1.114     5     7    10    22    34    44    50    53   53  ...   \n",
            "4596  X20.V1.132   -38   -33   -37   -39   -44   -46   -54   -59  -63  ...   \n",
            "4597  X19.V1.724  -350  -324  -292  -266  -239  -212  -176  -131  -84  ...   \n",
            "4598   X1.V1.543    34    43    48    46    46    37    32    23   23  ...   \n",
            "4599  X12.V1.214   -55   -57   -53   -53   -53   -48   -31   -16   -7  ...   \n",
            "\n",
            "      X170  X171  X172  X173  X174  X175  X176  X177  X178  y  \n",
            "0       72    86   100   105    98    98    96    93   109  0  \n",
            "1      -26   -41   -32   -19    -3    13     9    -6   -22  0  \n",
            "2      439   414   341   150   -30  -176  -185   -80    62  1  \n",
            "3       96   100   105   105   108   110   111   106   106  0  \n",
            "4      369   274   190   142   160   234   328   417   480  1  \n",
            "...    ...   ...   ...   ...   ...   ...   ...   ...   ... ..  \n",
            "4595   189   182   175   178   173   164   146   125   110  0  \n",
            "4596   -18   -23   -31   -41   -55   -57   -56   -56   -57  0  \n",
            "4597  -171  -105   -36     8    13   -10   -57  -105  -135  1  \n",
            "4598    27    38    50    57    61    55    56    60    56  0  \n",
            "4599  -158  -162  -161  -148  -128  -106   -84   -59   -49  0  \n",
            "\n",
            "[4600 rows x 180 columns]\n"
          ]
        },
        {
          "output_type": "execute_result",
          "data": {
            "text/plain": [
              "0    2300\n",
              "1    2300\n",
              "Name: y, dtype: int64"
            ]
          },
          "metadata": {},
          "execution_count": 86
        }
      ]
    },
    {
      "cell_type": "code",
      "source": [
        "submit_df.to_csv('1vs2345(3).csv')\n",
        "#해당 파일을 csv 파일로 변환하는 코드. 작은따옴표 안이 저장하고자 하는 csv 파일명."
      ],
      "metadata": {
        "id": "FaJmSlfrfL_-"
      },
      "execution_count": null,
      "outputs": []
    },
    {
      "cell_type": "code",
      "source": [
        "import os\n",
        "os.getcwd()"
      ],
      "metadata": {
        "colab": {
          "base_uri": "https://localhost:8080/",
          "height": 35
        },
        "id": "Qnd17ydlfa41",
        "outputId": "9a26d28a-41fb-454d-bbe2-91fded81416c"
      },
      "execution_count": null,
      "outputs": [
        {
          "output_type": "execute_result",
          "data": {
            "text/plain": [
              "'/gdrive/MyDrive/Bootcamp'"
            ],
            "application/vnd.google.colaboratory.intrinsic+json": {
              "type": "string"
            }
          },
          "metadata": {},
          "execution_count": 88
        }
      ]
    }
  ]
}